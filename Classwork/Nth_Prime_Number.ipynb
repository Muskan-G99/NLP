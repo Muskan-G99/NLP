{
  "nbformat": 4,
  "nbformat_minor": 0,
  "metadata": {
    "colab": {
      "name": "Nth Prime Number.ipynb",
      "provenance": []
    },
    "kernelspec": {
      "name": "python3",
      "display_name": "Python 3"
    }
  },
  "cells": [
    {
      "cell_type": "code",
      "metadata": {
        "id": "bgmEA0ofOF7-",
        "colab_type": "code",
        "colab": {}
      },
      "source": [
        "def prim(n):\n",
        "  p= int(math.sqrt(n)) +1\n",
        "  for i in range (2, p):\n",
        "    while n%i == 0 :\n",
        "      return ('Not Prime')"
      ],
      "execution_count": 0,
      "outputs": []
    },
    {
      "cell_type": "code",
      "metadata": {
        "id": "DN3pY5tyRtut",
        "colab_type": "code",
        "colab": {
          "base_uri": "https://localhost:8080/",
          "height": 34
        },
        "outputId": "af6db2e2-0ccb-4fc3-f053-558d4de269d1"
      },
      "source": [
        "prim(11)"
      ],
      "execution_count": 78,
      "outputs": [
        {
          "output_type": "execute_result",
          "data": {
            "text/plain": [
              "'Prime'"
            ]
          },
          "metadata": {
            "tags": []
          },
          "execution_count": 78
        }
      ]
    },
    {
      "cell_type": "code",
      "metadata": {
        "id": "el27w6SAVP_R",
        "colab_type": "code",
        "colab": {}
      },
      "source": [
        "import numpy as np\n",
        "import math"
      ],
      "execution_count": 0,
      "outputs": []
    },
    {
      "cell_type": "code",
      "metadata": {
        "id": "F5XPq8T5SHhG",
        "colab_type": "code",
        "colab": {}
      },
      "source": [
        "def prime(num):\n",
        "  Prime= np.arange(2, )\n",
        "  #counter =0\n",
        "  #while counter <= num:\n",
        "  for n in range(2, ):\n",
        "    p= int(math.sqrt(n))\n",
        "    for i in range (2, p):\n",
        "      while n%i != 0 :\n",
        "        Prime.remove(n)\n",
        "  return Prime[num-1]"
      ],
      "execution_count": 0,
      "outputs": []
    },
    {
      "cell_type": "code",
      "metadata": {
        "id": "R3uVbRxOyckd",
        "colab_type": "code",
        "colab": {}
      },
      "source": [
        "def prime(n):\n",
        "  counter= 0\n",
        "  prime= []\n",
        "  while(counter<= n):\n",
        "    for i in range (2, ):\n",
        "      d= sqrt(i)\n",
        "      for j in range (1, d):\n",
        "        if (i%j != 0):\n",
        "          counter+= 1\n",
        "          prime.append(i)\n",
        "  print(prime[n])"
      ],
      "execution_count": 0,
      "outputs": []
    },
    {
      "cell_type": "code",
      "metadata": {
        "id": "L0KCHJuYXveJ",
        "colab_type": "code",
        "colab": {}
      },
      "source": [
        "def is_prime(num):\n",
        "  factor = 2\n",
        "  while (factor < num):\n",
        "      if num%factor == 0:\n",
        "            return False\n",
        "      factor +=1\n",
        "  return True"
      ],
      "execution_count": 0,
      "outputs": []
    },
    {
      "cell_type": "code",
      "metadata": {
        "id": "I0ZV17LbXvhj",
        "colab_type": "code",
        "colab": {
          "base_uri": "https://localhost:8080/",
          "height": 34
        },
        "outputId": "fbce6589-8703-4d6a-c9fc-d483efc2049d"
      },
      "source": [
        "is_prime(100)"
      ],
      "execution_count": 76,
      "outputs": [
        {
          "output_type": "execute_result",
          "data": {
            "text/plain": [
              "False"
            ]
          },
          "metadata": {
            "tags": []
          },
          "execution_count": 76
        }
      ]
    },
    {
      "cell_type": "code",
      "metadata": {
        "id": "VzM1A9sXXvlb",
        "colab_type": "code",
        "colab": {}
      },
      "source": [
        "def Prime(n):\n",
        "  Prime= []\n",
        "  counter= 0\n",
        "  i= 2\n",
        "  while (counter <= n):\n",
        "    while i >= 2:\n",
        "      factor = 2\n",
        "      while (factor < num):\n",
        "        if num%factor == 0:\n",
        "            \n",
        "        factor +=1\n",
        "      return True\n"
      ],
      "execution_count": 0,
      "outputs": []
    },
    {
      "cell_type": "code",
      "metadata": {
        "id": "Eg9Whluybpa4",
        "colab_type": "code",
        "colab": {
          "base_uri": "https://localhost:8080/",
          "height": 34
        },
        "outputId": "c4c890a4-3417-4a80-98f5-4b3e0fc43e99"
      },
      "source": [
        "#FINAL CODE:\n",
        "n = 5\n",
        "\n",
        "def is_prime(num):\n",
        "    factor = 2\n",
        "    while (factor < num):\n",
        "        if num%factor == 0:\n",
        "             return False\n",
        "        factor +=1\n",
        "    return True\n",
        "\n",
        "if n==1:\n",
        "    print (2)\n",
        "count = 1\n",
        "num = 3\n",
        "while(count <= n):\n",
        "    if is_prime(num):\n",
        "        count +=1\n",
        "        if count == n:\n",
        "            print(num)\n",
        "            break\n",
        "    num +=2"
      ],
      "execution_count": 77,
      "outputs": [
        {
          "output_type": "stream",
          "text": [
            "11\n"
          ],
          "name": "stdout"
        }
      ]
    }
  ]
}