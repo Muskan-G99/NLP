{
  "nbformat": 4,
  "nbformat_minor": 0,
  "metadata": {
    "colab": {
      "name": "Regex.ipynb",
      "provenance": [],
      "toc_visible": true
    },
    "kernelspec": {
      "name": "python3",
      "display_name": "Python 3"
    }
  },
  "cells": [
    {
      "cell_type": "code",
      "metadata": {
        "id": "EjI5rplQSwMN",
        "colab_type": "code",
        "colab": {}
      },
      "source": [
        "import numpy as np\n",
        "import pandas as pd\n",
        "import seaborn as sns\n",
        "import string\n",
        "import matplotlib.pyplot as plt"
      ],
      "execution_count": 0,
      "outputs": []
    },
    {
      "cell_type": "code",
      "metadata": {
        "id": "Bw7NDS1JeTDj",
        "colab_type": "code",
        "colab": {}
      },
      "source": [
        "str2= \"From: Paymanshu Sharma <paymanshus@gmail.com> Date: Sat, 8 Feb 2020 at 10:49 Subject: Idea Proposal For SIH 2020 To: <archana.bhise@nmims.edu> Respected ma'am, PFA the final idea proposal for Team Neural Techworks for Problem Statement NM378. Kindly consider the attached ppt with 4 slides(3+1) as the final one, rather than the last one which we sent.\""
      ],
      "execution_count": 0,
      "outputs": []
    },
    {
      "cell_type": "code",
      "metadata": {
        "id": "E6qgv4Q7eTHQ",
        "colab_type": "code",
        "colab": {}
      },
      "source": [
        "import re"
      ],
      "execution_count": 0,
      "outputs": []
    },
    {
      "cell_type": "code",
      "metadata": {
        "id": "5afnytbJ0M2s",
        "colab_type": "code",
        "outputId": "397b299f-1e73-4109-df55-0560345750c8",
        "colab": {
          "base_uri": "https://localhost:8080/",
          "height": 34
        }
      },
      "source": [
        "re.findall(r'\\w+.\\w+@\\w+.\\w+', str2)"
      ],
      "execution_count": 4,
      "outputs": [
        {
          "output_type": "execute_result",
          "data": {
            "text/plain": [
              "['paymanshus@gmail.com', 'archana.bhise@nmims.edu']"
            ]
          },
          "metadata": {
            "tags": []
          },
          "execution_count": 4
        }
      ]
    },
    {
      "cell_type": "code",
      "metadata": {
        "id": "JeUbBzwF3bhW",
        "colab_type": "code",
        "colab": {
          "base_uri": "https://localhost:8080/",
          "height": 34
        },
        "outputId": "a5721efd-62d3-4785-cf20-c49e30760b1f"
      },
      "source": [
        "re.findall(r'\\d{10}', str2)"
      ],
      "execution_count": 9,
      "outputs": [
        {
          "output_type": "execute_result",
          "data": {
            "text/plain": [
              "[]"
            ]
          },
          "metadata": {
            "tags": []
          },
          "execution_count": 9
        }
      ]
    },
    {
      "cell_type": "code",
      "metadata": {
        "id": "rxfjk4ewEdQm",
        "colab_type": "code",
        "colab": {}
      },
      "source": [
        ""
      ],
      "execution_count": 0,
      "outputs": []
    }
  ]
}